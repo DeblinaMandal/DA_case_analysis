{
 "cells": [
  {
   "cell_type": "code",
   "execution_count": 1,
   "id": "a9049934",
   "metadata": {},
   "outputs": [],
   "source": [
    "import pandas as pd"
   ]
  },
  {
   "cell_type": "markdown",
   "id": "c7af23da",
   "metadata": {},
   "source": [
    "# 1. Reading the file"
   ]
  },
  {
   "cell_type": "code",
   "execution_count": 3,
   "id": "daac725d",
   "metadata": {},
   "outputs": [],
   "source": [
    "df = pd.read_csv(\"/Users/deblinamandal/Downloads/data22.csv\")"
   ]
  },
  {
   "cell_type": "code",
   "execution_count": 4,
   "id": "328ab0ea",
   "metadata": {},
   "outputs": [
    {
     "data": {
      "text/html": [
       "<div>\n",
       "<style scoped>\n",
       "    .dataframe tbody tr th:only-of-type {\n",
       "        vertical-align: middle;\n",
       "    }\n",
       "\n",
       "    .dataframe tbody tr th {\n",
       "        vertical-align: top;\n",
       "    }\n",
       "\n",
       "    .dataframe thead th {\n",
       "        text-align: right;\n",
       "    }\n",
       "</style>\n",
       "<table border=\"1\" class=\"dataframe\">\n",
       "  <thead>\n",
       "    <tr style=\"text-align: right;\">\n",
       "      <th></th>\n",
       "      <th>CustomerID</th>\n",
       "      <th>Age</th>\n",
       "      <th>Income (INR) (in lakhs per annum)</th>\n",
       "      <th>Demography</th>\n",
       "      <th>Gender</th>\n",
       "    </tr>\n",
       "  </thead>\n",
       "  <tbody>\n",
       "    <tr>\n",
       "      <th>0</th>\n",
       "      <td>CUS1</td>\n",
       "      <td>25</td>\n",
       "      <td>5</td>\n",
       "      <td>Rural</td>\n",
       "      <td>Male</td>\n",
       "    </tr>\n",
       "    <tr>\n",
       "      <th>1</th>\n",
       "      <td>CUS2</td>\n",
       "      <td>30</td>\n",
       "      <td>10</td>\n",
       "      <td>Urban</td>\n",
       "      <td>Male</td>\n",
       "    </tr>\n",
       "    <tr>\n",
       "      <th>2</th>\n",
       "      <td>CUS3</td>\n",
       "      <td>25</td>\n",
       "      <td>8</td>\n",
       "      <td>Rural</td>\n",
       "      <td>Female</td>\n",
       "    </tr>\n",
       "    <tr>\n",
       "      <th>3</th>\n",
       "      <td>CUS4</td>\n",
       "      <td>35</td>\n",
       "      <td>15</td>\n",
       "      <td>Rural</td>\n",
       "      <td>Female</td>\n",
       "    </tr>\n",
       "    <tr>\n",
       "      <th>4</th>\n",
       "      <td>CUS5</td>\n",
       "      <td>45</td>\n",
       "      <td>20</td>\n",
       "      <td>Urban</td>\n",
       "      <td>Female</td>\n",
       "    </tr>\n",
       "  </tbody>\n",
       "</table>\n",
       "</div>"
      ],
      "text/plain": [
       "  CustomerID  Age  Income (INR) (in lakhs per annum) Demography  Gender\n",
       "0       CUS1   25                                  5      Rural    Male\n",
       "1       CUS2   30                                 10      Urban    Male\n",
       "2       CUS3   25                                  8      Rural  Female\n",
       "3       CUS4   35                                 15      Rural  Female\n",
       "4       CUS5   45                                 20      Urban  Female"
      ]
     },
     "execution_count": 4,
     "metadata": {},
     "output_type": "execute_result"
    }
   ],
   "source": [
    "df.head()"
   ]
  },
  {
   "cell_type": "markdown",
   "id": "c2d52593",
   "metadata": {},
   "source": [
    "# 2. Checking dataset"
   ]
  },
  {
   "cell_type": "code",
   "execution_count": 5,
   "id": "0266bd83",
   "metadata": {},
   "outputs": [
    {
     "name": "stdout",
     "output_type": "stream",
     "text": [
      "<class 'pandas.core.frame.DataFrame'>\n",
      "RangeIndex: 8 entries, 0 to 7\n",
      "Data columns (total 5 columns):\n",
      " #   Column                             Non-Null Count  Dtype \n",
      "---  ------                             --------------  ----- \n",
      " 0   CustomerID                         8 non-null      object\n",
      " 1   Age                                8 non-null      int64 \n",
      " 2   Income (INR) (in lakhs per annum)  8 non-null      int64 \n",
      " 3   Demography                         8 non-null      object\n",
      " 4   Gender                             8 non-null      object\n",
      "dtypes: int64(2), object(3)\n",
      "memory usage: 452.0+ bytes\n"
     ]
    }
   ],
   "source": [
    "df.info()"
   ]
  },
  {
   "cell_type": "code",
   "execution_count": 6,
   "id": "2388a7bc",
   "metadata": {},
   "outputs": [
    {
     "data": {
      "text/plain": [
       "CustomerID                           0\n",
       "Age                                  0\n",
       "Income (INR) (in lakhs per annum)    0\n",
       "Demography                           0\n",
       "Gender                               0\n",
       "dtype: int64"
      ]
     },
     "execution_count": 6,
     "metadata": {},
     "output_type": "execute_result"
    }
   ],
   "source": [
    "df.isna().sum()"
   ]
  },
  {
   "cell_type": "markdown",
   "id": "01b888ba",
   "metadata": {},
   "source": [
    "DROPPPING CUSTOMER ID COLUMN"
   ]
  },
  {
   "cell_type": "code",
   "execution_count": 7,
   "id": "a7c35e6e",
   "metadata": {},
   "outputs": [],
   "source": [
    "df.drop(['CustomerID'],axis=1,inplace=True)"
   ]
  },
  {
   "cell_type": "code",
   "execution_count": 8,
   "id": "0ff6f180",
   "metadata": {},
   "outputs": [
    {
     "data": {
      "text/html": [
       "<div>\n",
       "<style scoped>\n",
       "    .dataframe tbody tr th:only-of-type {\n",
       "        vertical-align: middle;\n",
       "    }\n",
       "\n",
       "    .dataframe tbody tr th {\n",
       "        vertical-align: top;\n",
       "    }\n",
       "\n",
       "    .dataframe thead th {\n",
       "        text-align: right;\n",
       "    }\n",
       "</style>\n",
       "<table border=\"1\" class=\"dataframe\">\n",
       "  <thead>\n",
       "    <tr style=\"text-align: right;\">\n",
       "      <th></th>\n",
       "      <th>Age</th>\n",
       "      <th>Income (INR) (in lakhs per annum)</th>\n",
       "      <th>Demography</th>\n",
       "      <th>Gender</th>\n",
       "    </tr>\n",
       "  </thead>\n",
       "  <tbody>\n",
       "    <tr>\n",
       "      <th>0</th>\n",
       "      <td>25</td>\n",
       "      <td>5</td>\n",
       "      <td>Rural</td>\n",
       "      <td>Male</td>\n",
       "    </tr>\n",
       "    <tr>\n",
       "      <th>1</th>\n",
       "      <td>30</td>\n",
       "      <td>10</td>\n",
       "      <td>Urban</td>\n",
       "      <td>Male</td>\n",
       "    </tr>\n",
       "    <tr>\n",
       "      <th>2</th>\n",
       "      <td>25</td>\n",
       "      <td>8</td>\n",
       "      <td>Rural</td>\n",
       "      <td>Female</td>\n",
       "    </tr>\n",
       "    <tr>\n",
       "      <th>3</th>\n",
       "      <td>35</td>\n",
       "      <td>15</td>\n",
       "      <td>Rural</td>\n",
       "      <td>Female</td>\n",
       "    </tr>\n",
       "    <tr>\n",
       "      <th>4</th>\n",
       "      <td>45</td>\n",
       "      <td>20</td>\n",
       "      <td>Urban</td>\n",
       "      <td>Female</td>\n",
       "    </tr>\n",
       "  </tbody>\n",
       "</table>\n",
       "</div>"
      ],
      "text/plain": [
       "   Age  Income (INR) (in lakhs per annum) Demography  Gender\n",
       "0   25                                  5      Rural    Male\n",
       "1   30                                 10      Urban    Male\n",
       "2   25                                  8      Rural  Female\n",
       "3   35                                 15      Rural  Female\n",
       "4   45                                 20      Urban  Female"
      ]
     },
     "execution_count": 8,
     "metadata": {},
     "output_type": "execute_result"
    }
   ],
   "source": [
    "df.head()"
   ]
  },
  {
   "cell_type": "markdown",
   "id": "5f44ac62",
   "metadata": {},
   "source": [
    "# 3. Enlabel Gender and Demogrphy as 0 and 1 as per the question"
   ]
  },
  {
   "cell_type": "code",
   "execution_count": 9,
   "id": "4f259b11",
   "metadata": {},
   "outputs": [],
   "source": [
    "from sklearn.preprocessing import LabelEncoder\n",
    "# Define a mapping dictionary for unit labels\n",
    "unit_mapping = {'Male': 0, 'Female': 1}\n",
    "unit_mapping1 = {'Rural': 0, 'Urban': 1}\n",
    "# Suppose 'unit_column' is the column where you want to assign integer labels\n",
    "df['Gender'] = df['Gender'].map(unit_mapping)\n",
    "df['Demography'] = df['Demography'].map(unit_mapping1)\n"
   ]
  },
  {
   "cell_type": "code",
   "execution_count": 10,
   "id": "e3199ad7",
   "metadata": {},
   "outputs": [
    {
     "data": {
      "text/html": [
       "<div>\n",
       "<style scoped>\n",
       "    .dataframe tbody tr th:only-of-type {\n",
       "        vertical-align: middle;\n",
       "    }\n",
       "\n",
       "    .dataframe tbody tr th {\n",
       "        vertical-align: top;\n",
       "    }\n",
       "\n",
       "    .dataframe thead th {\n",
       "        text-align: right;\n",
       "    }\n",
       "</style>\n",
       "<table border=\"1\" class=\"dataframe\">\n",
       "  <thead>\n",
       "    <tr style=\"text-align: right;\">\n",
       "      <th></th>\n",
       "      <th>Age</th>\n",
       "      <th>Income (INR) (in lakhs per annum)</th>\n",
       "      <th>Demography</th>\n",
       "      <th>Gender</th>\n",
       "    </tr>\n",
       "  </thead>\n",
       "  <tbody>\n",
       "    <tr>\n",
       "      <th>0</th>\n",
       "      <td>25</td>\n",
       "      <td>5</td>\n",
       "      <td>0</td>\n",
       "      <td>0</td>\n",
       "    </tr>\n",
       "    <tr>\n",
       "      <th>1</th>\n",
       "      <td>30</td>\n",
       "      <td>10</td>\n",
       "      <td>1</td>\n",
       "      <td>0</td>\n",
       "    </tr>\n",
       "    <tr>\n",
       "      <th>2</th>\n",
       "      <td>25</td>\n",
       "      <td>8</td>\n",
       "      <td>0</td>\n",
       "      <td>1</td>\n",
       "    </tr>\n",
       "    <tr>\n",
       "      <th>3</th>\n",
       "      <td>35</td>\n",
       "      <td>15</td>\n",
       "      <td>0</td>\n",
       "      <td>1</td>\n",
       "    </tr>\n",
       "    <tr>\n",
       "      <th>4</th>\n",
       "      <td>45</td>\n",
       "      <td>20</td>\n",
       "      <td>1</td>\n",
       "      <td>1</td>\n",
       "    </tr>\n",
       "  </tbody>\n",
       "</table>\n",
       "</div>"
      ],
      "text/plain": [
       "   Age  Income (INR) (in lakhs per annum)  Demography  Gender\n",
       "0   25                                  5           0       0\n",
       "1   30                                 10           1       0\n",
       "2   25                                  8           0       1\n",
       "3   35                                 15           0       1\n",
       "4   45                                 20           1       1"
      ]
     },
     "execution_count": 10,
     "metadata": {},
     "output_type": "execute_result"
    }
   ],
   "source": [
    "df.head()"
   ]
  },
  {
   "cell_type": "markdown",
   "id": "ebd19110",
   "metadata": {},
   "source": [
    "# 4. Standard scaling for Age and Income "
   ]
  },
  {
   "cell_type": "code",
   "execution_count": 11,
   "id": "c62c5f4d",
   "metadata": {},
   "outputs": [
    {
     "data": {
      "text/html": [
       "<div>\n",
       "<style scoped>\n",
       "    .dataframe tbody tr th:only-of-type {\n",
       "        vertical-align: middle;\n",
       "    }\n",
       "\n",
       "    .dataframe tbody tr th {\n",
       "        vertical-align: top;\n",
       "    }\n",
       "\n",
       "    .dataframe thead th {\n",
       "        text-align: right;\n",
       "    }\n",
       "</style>\n",
       "<table border=\"1\" class=\"dataframe\">\n",
       "  <thead>\n",
       "    <tr style=\"text-align: right;\">\n",
       "      <th></th>\n",
       "      <th>Age</th>\n",
       "      <th>Income (INR) (in lakhs per annum)</th>\n",
       "      <th>Demography</th>\n",
       "      <th>Gender</th>\n",
       "    </tr>\n",
       "  </thead>\n",
       "  <tbody>\n",
       "    <tr>\n",
       "      <th>0</th>\n",
       "      <td>-0.840900</td>\n",
       "      <td>-1.166880</td>\n",
       "      <td>0</td>\n",
       "      <td>0</td>\n",
       "    </tr>\n",
       "    <tr>\n",
       "      <th>1</th>\n",
       "      <td>-0.323423</td>\n",
       "      <td>-0.286216</td>\n",
       "      <td>1</td>\n",
       "      <td>0</td>\n",
       "    </tr>\n",
       "    <tr>\n",
       "      <th>2</th>\n",
       "      <td>-0.840900</td>\n",
       "      <td>-0.638482</td>\n",
       "      <td>0</td>\n",
       "      <td>1</td>\n",
       "    </tr>\n",
       "    <tr>\n",
       "      <th>3</th>\n",
       "      <td>0.194054</td>\n",
       "      <td>0.594448</td>\n",
       "      <td>0</td>\n",
       "      <td>1</td>\n",
       "    </tr>\n",
       "    <tr>\n",
       "      <th>4</th>\n",
       "      <td>1.229008</td>\n",
       "      <td>1.475113</td>\n",
       "      <td>1</td>\n",
       "      <td>1</td>\n",
       "    </tr>\n",
       "  </tbody>\n",
       "</table>\n",
       "</div>"
      ],
      "text/plain": [
       "        Age  Income (INR) (in lakhs per annum)  Demography  Gender\n",
       "0 -0.840900                          -1.166880           0       0\n",
       "1 -0.323423                          -0.286216           1       0\n",
       "2 -0.840900                          -0.638482           0       1\n",
       "3  0.194054                           0.594448           0       1\n",
       "4  1.229008                           1.475113           1       1"
      ]
     },
     "execution_count": 11,
     "metadata": {},
     "output_type": "execute_result"
    }
   ],
   "source": [
    "from sklearn.preprocessing import StandardScaler\n",
    "sc=StandardScaler()\n",
    "df['Age']=sc.fit_transform(df[['Age']])\n",
    "df['Income (INR) (in lakhs per annum)']=sc.fit_transform(df[['Income (INR) (in lakhs per annum)']])\n",
    "df.head()"
   ]
  },
  {
   "cell_type": "markdown",
   "id": "9b999763",
   "metadata": {},
   "source": [
    "# 5. Performing K means clustering "
   ]
  },
  {
   "cell_type": "code",
   "execution_count": 13,
   "id": "b22fd65d",
   "metadata": {},
   "outputs": [],
   "source": [
    "from sklearn.cluster import KMeans\n",
    "kmeans = KMeans(n_clusters = 2)\n",
    "clusters = kmeans.fit_predict(df)\n"
   ]
  },
  {
   "cell_type": "code",
   "execution_count": 14,
   "id": "a840a702",
   "metadata": {},
   "outputs": [
    {
     "data": {
      "text/plain": [
       "array([0, 0, 0, 1, 1, 0, 1, 0], dtype=int32)"
      ]
     },
     "execution_count": 14,
     "metadata": {},
     "output_type": "execute_result"
    }
   ],
   "source": [
    "clusters"
   ]
  },
  {
   "cell_type": "code",
   "execution_count": 15,
   "id": "fd54b690",
   "metadata": {},
   "outputs": [
    {
     "data": {
      "text/html": [
       "<div>\n",
       "<style scoped>\n",
       "    .dataframe tbody tr th:only-of-type {\n",
       "        vertical-align: middle;\n",
       "    }\n",
       "\n",
       "    .dataframe tbody tr th {\n",
       "        vertical-align: top;\n",
       "    }\n",
       "\n",
       "    .dataframe thead th {\n",
       "        text-align: right;\n",
       "    }\n",
       "</style>\n",
       "<table border=\"1\" class=\"dataframe\">\n",
       "  <thead>\n",
       "    <tr style=\"text-align: right;\">\n",
       "      <th></th>\n",
       "      <th>Age</th>\n",
       "      <th>Income (INR) (in lakhs per annum)</th>\n",
       "      <th>Demography</th>\n",
       "      <th>Gender</th>\n",
       "      <th>Cluster</th>\n",
       "    </tr>\n",
       "  </thead>\n",
       "  <tbody>\n",
       "    <tr>\n",
       "      <th>0</th>\n",
       "      <td>-0.840900</td>\n",
       "      <td>-1.166880</td>\n",
       "      <td>0</td>\n",
       "      <td>0</td>\n",
       "      <td>0</td>\n",
       "    </tr>\n",
       "    <tr>\n",
       "      <th>1</th>\n",
       "      <td>-0.323423</td>\n",
       "      <td>-0.286216</td>\n",
       "      <td>1</td>\n",
       "      <td>0</td>\n",
       "      <td>0</td>\n",
       "    </tr>\n",
       "    <tr>\n",
       "      <th>2</th>\n",
       "      <td>-0.840900</td>\n",
       "      <td>-0.638482</td>\n",
       "      <td>0</td>\n",
       "      <td>1</td>\n",
       "      <td>0</td>\n",
       "    </tr>\n",
       "    <tr>\n",
       "      <th>3</th>\n",
       "      <td>0.194054</td>\n",
       "      <td>0.594448</td>\n",
       "      <td>0</td>\n",
       "      <td>1</td>\n",
       "      <td>1</td>\n",
       "    </tr>\n",
       "    <tr>\n",
       "      <th>4</th>\n",
       "      <td>1.229008</td>\n",
       "      <td>1.475113</td>\n",
       "      <td>1</td>\n",
       "      <td>1</td>\n",
       "      <td>1</td>\n",
       "    </tr>\n",
       "    <tr>\n",
       "      <th>5</th>\n",
       "      <td>-1.358377</td>\n",
       "      <td>-1.166880</td>\n",
       "      <td>1</td>\n",
       "      <td>0</td>\n",
       "      <td>0</td>\n",
       "    </tr>\n",
       "    <tr>\n",
       "      <th>6</th>\n",
       "      <td>1.746485</td>\n",
       "      <td>1.475113</td>\n",
       "      <td>1</td>\n",
       "      <td>0</td>\n",
       "      <td>1</td>\n",
       "    </tr>\n",
       "    <tr>\n",
       "      <th>7</th>\n",
       "      <td>0.194054</td>\n",
       "      <td>-0.286216</td>\n",
       "      <td>0</td>\n",
       "      <td>0</td>\n",
       "      <td>0</td>\n",
       "    </tr>\n",
       "  </tbody>\n",
       "</table>\n",
       "</div>"
      ],
      "text/plain": [
       "        Age  Income (INR) (in lakhs per annum)  Demography  Gender  Cluster\n",
       "0 -0.840900                          -1.166880           0       0        0\n",
       "1 -0.323423                          -0.286216           1       0        0\n",
       "2 -0.840900                          -0.638482           0       1        0\n",
       "3  0.194054                           0.594448           0       1        1\n",
       "4  1.229008                           1.475113           1       1        1\n",
       "5 -1.358377                          -1.166880           1       0        0\n",
       "6  1.746485                           1.475113           1       0        1\n",
       "7  0.194054                          -0.286216           0       0        0"
      ]
     },
     "execution_count": 15,
     "metadata": {},
     "output_type": "execute_result"
    }
   ],
   "source": [
    "df[\"Cluster\"] = clusters\n",
    "df.head(8)"
   ]
  },
  {
   "cell_type": "code",
   "execution_count": 16,
   "id": "46040d74",
   "metadata": {},
   "outputs": [
    {
     "data": {
      "image/png": "[encoded data removed]",
      "text/plain": [
       "<Figure size 640x480 with 1 Axes>"
      ]
     },
     "metadata": {},
     "output_type": "display_data"
    }
   ],
   "source": [
    "from sklearn.cluster import KMeans\n",
    "from sklearn.metrics import silhouette_score\n",
    "import matplotlib.pyplot as plt\n",
    "\n",
    "silhouette_scores = [] \n",
    "\n",
    "for n_cluster in range(2,8):\n",
    "    silhouette_scores.append( \n",
    "        silhouette_score(df, KMeans(n_clusters = n_cluster).fit_predict(df))) \n",
    "    \n",
    "# Plotting a bar graph to compare the results \n",
    "k = [2, 3, 4, 5, 6,7] \n",
    "plt.bar(k, silhouette_scores) \n",
    "plt.xlabel('Number of clusters', fontsize = 10) \n",
    "plt.ylabel('Silhouette Score', fontsize = 10) \n",
    "plt.grid()\n",
    "plt.show() \n"
   ]
  },
  {
   "cell_type": "markdown",
   "id": "8231f25d",
   "metadata": {},
   "source": [
    "# 6. Calculating K mean performance using silhouette score and Intertia"
   ]
  },
  {
   "cell_type": "code",
   "execution_count": 17,
   "id": "fdb20f0e",
   "metadata": {},
   "outputs": [
    {
     "name": "stdout",
     "output_type": "stream",
     "text": [
      "Silhouette Score: 0.46802832889800017\n"
     ]
    }
   ],
   "source": [
    "silhouette_avg = silhouette_score(df, kmeans.labels_)\n",
    "print(\"Silhouette Score:\", silhouette_avg)"
   ]
  },
  {
   "cell_type": "markdown",
   "id": "57296155",
   "metadata": {},
   "source": [
    "A score of 0.468 suggests a reasonable separation between clusters.\n",
    "Silhouette scores range from -1 to 1. A higher score indicates better-defined clusters, and 0.468 is generally considered a good score."
   ]
  },
  {
   "cell_type": "code",
   "execution_count": 18,
   "id": "e244c0ee",
   "metadata": {},
   "outputs": [
    {
     "name": "stdout",
     "output_type": "stream",
     "text": [
      "Inertia: 7.274273765507841\n"
     ]
    }
   ],
   "source": [
    "from sklearn.cluster import KMeans\n",
    "kmeans = KMeans(n_clusters=2)\n",
    "kmeans.fit(df)\n",
    "inertia = kmeans.inertia_\n",
    "print(\"Inertia:\", inertia)"
   ]
  },
  {
   "cell_type": "markdown",
   "id": "1bfdb925",
   "metadata": {},
   "source": [
    "The inertia value of 7.274 suggests that the clusters are relatively compact. "
   ]
  },
  {
   "cell_type": "markdown",
   "id": "eb4ee88e",
   "metadata": {},
   "source": [
    "# 7. Plotting the Clustering on basis of Age and Income"
   ]
  },
  {
   "cell_type": "code",
   "execution_count": 19,
   "id": "e503fa8d",
   "metadata": {},
   "outputs": [
    {
     "data": {
      "image/png": "[encoded data removed]",
      "text/plain": [
       "<Figure size 1200x800 with 1 Axes>"
      ]
     },
     "metadata": {},
     "output_type": "display_data"
    }
   ],
   "source": [
    "import matplotlib.pyplot as plt\n",
    "import pandas as pd\n",
    "\n",
    "\n",
    "# Extracting relevant columns for visualization\n",
    "features = df[['Age', 'Income (INR) (in lakhs per annum)', 'Demography', 'Gender', 'Cluster']]\n",
    "\n",
    "# Create separate DataFrames for each cluster\n",
    "cluster_0 = features[features['Cluster'] == 0]\n",
    "cluster_1 = features[features['Cluster'] == 1]\n",
    "\n",
    "# Plotting the clusters\n",
    "plt.figure(figsize=(12, 8))\n",
    "\n",
    "# Scatter plot for Cluster 0\n",
    "plt.scatter(cluster_0['Age'], cluster_0['Income (INR) (in lakhs per annum)'], label='Cluster 0', marker='o')\n",
    "\n",
    "# Scatter plot for Cluster 1\n",
    "plt.scatter(cluster_1['Age'], cluster_1['Income (INR) (in lakhs per annum)'], label='Cluster 1', marker='s')\n",
    "\n",
    "# Adding labels and title\n",
    "plt.xlabel('Age')\n",
    "plt.ylabel('Income (INR)')\n",
    "plt.title('Clusters based on Age and Income')\n",
    "plt.legend()\n",
    "plt.grid(True)\n",
    "plt.show()"
   ]
  },
  {
   "cell_type": "markdown",
   "id": "c276fa21",
   "metadata": {},
   "source": [
    "# 8. Interpretation  \n",
    "\n",
    "Cluster 0 appears to have customers with lower income and younger age, mostly from rural areas.\n",
    "\n",
    "Cluster 1 includes customers with higher income and older age, mostly from urban areas as seem from the graph above.\n",
    "\n",
    "\n",
    "# 9. Recommendation\n",
    "\n",
    "Cluster 0:\n",
    "\n",
    "Lower Age, Lower Income, Predominantly from Rural Areas, Mostly Male\n",
    "\n",
    "- Offer straightforward and easily accessible banking services tailored to the needs of younger and less affluent customers.\n",
    "- Provide educational materials or workshops on financial literacy to empower customers in managing their finances.\n",
    "- Focus on user-friendly digital banking solutions as younger customers may be more tech-savvy.\n",
    "- Introduce mobile apps and online banking features to enhance convenience.\n",
    "\n",
    "\n",
    "Cluster 1:\n",
    "\n",
    "Characteristics:\n",
    "Higher Age, Higher Income, Predominantly from Urban Areas, Mostly Female\n",
    "\n",
    "Recommendations:\n",
    "\n",
    "- Provide personalized investment advisory services for wealth management.\n",
    "- Offer a range of investment products suited to different risk appetites.\n",
    "- Introduce premium banking services with exclusive benefits for high-income customers.\n",
    "- Offer personalized support and priority services.\n",
    "- Develop tailored loan products such as mortgage or personal loans with favorable terms for this segment and consider offering credit cards with exclusive perks."
   ]
  },
  {
   "cell_type": "code",
   "execution_count": null,
   "id": "deb0cc74",
   "metadata": {},
   "outputs": [],
   "source": []
  }
 ],
 "metadata": {
  "kernelspec": {
   "display_name": "Python 3 (ipykernel)",
   "language": "python",
   "name": "python3"
  },
  "language_info": {
   "codemirror_mode": {
    "name": "ipython",
    "version": 3
   },
   "file_extension": ".py",
   "mimetype": "text/x-python",
   "name": "python",
   "nbconvert_exporter": "python",
   "pygments_lexer": "ipython3",
   "version": "3.11.4"
  }
 },
 "nbformat": 4,
 "nbformat_minor": 5
}
